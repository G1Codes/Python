{
 "cells": [
  {
   "cell_type": "code",
   "execution_count": 7,
   "id": "24277955",
   "metadata": {},
   "outputs": [],
   "source": [
    "import os"
   ]
  },
  {
   "cell_type": "code",
   "execution_count": 12,
   "id": "47c990ee",
   "metadata": {},
   "outputs": [
    {
     "data": {
      "text/plain": [
       "['Firends.S06.720p.English.Moviesmod',\n",
       " 'Peaky.Blinders.S5',\n",
       " 'Ranveer Latent.mp4',\n",
       " 'Rick.And.Morty.S07.1080p.x264']"
      ]
     },
     "execution_count": 12,
     "metadata": {},
     "output_type": "execute_result"
    }
   ],
   "source": [
    "items = os.listdir(r'C:\\Users\\Jeevan\\Desktop\\Movies')\n",
    "items"
   ]
  },
  {
   "cell_type": "code",
   "execution_count": null,
   "id": "b5613cb1",
   "metadata": {},
   "outputs": [
    {
     "data": {
      "text/plain": [
       "['Include',\n",
       " 'Lib',\n",
       " 'pyvenv.cfg',\n",
       " 'Scripts',\n",
       " 'share',\n",
       " 'Test.ipynb',\n",
       " 'Test2.ipynb',\n",
       " 'venv.code-workspace']"
      ]
     },
     "execution_count": 13,
     "metadata": {},
     "output_type": "execute_result"
    }
   ],
   "source": [
    "items2 = os.listdir(r'.') # \".\" --> Current directory\n",
    "items2"
   ]
  },
  {
   "cell_type": "markdown",
   "id": "79a4812d",
   "metadata": {},
   "source": [
    "## Join Folder + File Path"
   ]
  },
  {
   "cell_type": "code",
   "execution_count": 15,
   "id": "d9e6b93d",
   "metadata": {},
   "outputs": [
    {
     "data": {
      "text/plain": [
       "'d:\\\\Python Env\\\\venv\\\\folder\\\\file.txt'"
      ]
     },
     "execution_count": 15,
     "metadata": {},
     "output_type": "execute_result"
    }
   ],
   "source": [
    "file= 'file.txt'\n",
    "folder = 'folder'\n",
    "\n",
    "os.path.join(os.getcwd(), folder,file)"
   ]
  },
  {
   "cell_type": "code",
   "execution_count": 16,
   "id": "3dabcbd4",
   "metadata": {},
   "outputs": [
    {
     "data": {
      "text/plain": [
       "'d:\\\\Python Env\\\\venv'"
      ]
     },
     "execution_count": 16,
     "metadata": {},
     "output_type": "execute_result"
    }
   ],
   "source": [
    "os.getcwd()"
   ]
  },
  {
   "cell_type": "code",
   "execution_count": 22,
   "id": "56838ef0",
   "metadata": {},
   "outputs": [],
   "source": [
    "file= 'file.txt'\n",
    "folder = 'folder'\n",
    "\n",
    "rel_path= os.path.join(folder,file)"
   ]
  },
  {
   "cell_type": "markdown",
   "id": "ba006a74",
   "metadata": {},
   "source": [
    "## Create Absolute path"
   ]
  },
  {
   "cell_type": "code",
   "execution_count": 24,
   "id": "a3009802",
   "metadata": {},
   "outputs": [
    {
     "name": "stdout",
     "output_type": "stream",
     "text": [
      "d:\\Python Env\\venv\\folder\\file.txt\n"
     ]
    }
   ],
   "source": [
    "abs_path= os.path.abspath(rel_path)\n",
    "print(abs_path)"
   ]
  },
  {
   "cell_type": "markdown",
   "id": "bb59eeb6",
   "metadata": {},
   "source": [
    "## Check if file/folder"
   ]
  },
  {
   "cell_type": "code",
   "execution_count": 29,
   "id": "daf5a11a",
   "metadata": {},
   "outputs": [
    {
     "data": {
      "text/plain": [
       "True"
      ]
     },
     "execution_count": 29,
     "metadata": {},
     "output_type": "execute_result"
    }
   ],
   "source": [
    "os. path.isfile('test.ipynb')"
   ]
  },
  {
   "cell_type": "code",
   "execution_count": 30,
   "id": "45cb87db",
   "metadata": {},
   "outputs": [
    {
     "data": {
      "text/plain": [
       "False"
      ]
     },
     "execution_count": 30,
     "metadata": {},
     "output_type": "execute_result"
    }
   ],
   "source": [
    "os. path.isdir('test.ipynb')"
   ]
  },
  {
   "cell_type": "code",
   "execution_count": 31,
   "id": "5ce78a63",
   "metadata": {},
   "outputs": [
    {
     "data": {
      "text/plain": [
       "True"
      ]
     },
     "execution_count": 31,
     "metadata": {},
     "output_type": "execute_result"
    }
   ],
   "source": [
    "os. path.isdir('Lib')"
   ]
  }
 ],
 "metadata": {
  "kernelspec": {
   "display_name": "venv",
   "language": "python",
   "name": "python3"
  },
  "language_info": {
   "codemirror_mode": {
    "name": "ipython",
    "version": 3
   },
   "file_extension": ".py",
   "mimetype": "text/x-python",
   "name": "python",
   "nbconvert_exporter": "python",
   "pygments_lexer": "ipython3",
   "version": "3.12.3"
  }
 },
 "nbformat": 4,
 "nbformat_minor": 5
}
